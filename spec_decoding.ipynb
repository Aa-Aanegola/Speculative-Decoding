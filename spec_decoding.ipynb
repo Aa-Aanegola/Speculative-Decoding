{
 "cells": [
  {
   "cell_type": "code",
   "execution_count": 1,
   "metadata": {},
   "outputs": [
    {
     "name": "stderr",
     "output_type": "stream",
     "text": [
      "/insomnia001/home/aa5506/miniconda3/envs/spec/lib/python3.10/site-packages/tqdm/auto.py:21: TqdmWarning: IProgress not found. Please update jupyter and ipywidgets. See https://ipywidgets.readthedocs.io/en/stable/user_install.html\n",
      "  from .autonotebook import tqdm as notebook_tqdm\n"
     ]
    },
    {
     "data": {
      "text/plain": [
       "False"
      ]
     },
     "execution_count": 1,
     "metadata": {},
     "output_type": "execute_result"
    }
   ],
   "source": [
    "from transformers import AutoModelForCausalLM, AutoTokenizer\n",
    "import time\n",
    "import torch\n",
    "torch.cuda.is_available()"
   ]
  },
  {
   "cell_type": "code",
   "execution_count": 2,
   "metadata": {},
   "outputs": [
    {
     "name": "stdout",
     "output_type": "stream",
     "text": [
      "/insomnia001/home/aa5506/miniconda3/envs/spec/bin/python\n"
     ]
    }
   ],
   "source": [
    "import sys\n",
    "print(sys.executable)"
   ]
  },
  {
   "cell_type": "code",
   "execution_count": 2,
   "metadata": {},
   "outputs": [],
   "source": [
    "prompt = \"The meaning of life is\"\n",
    "\n",
    "target_cpt = \"google/gemma-2b\"\n",
    "assistant_cpt = \"double7/vicuna-68m\""
   ]
  },
  {
   "cell_type": "code",
   "execution_count": 3,
   "metadata": {},
   "outputs": [
    {
     "name": "stderr",
     "output_type": "stream",
     "text": [
      "Loading checkpoint shards: 100%|██████████| 2/2 [00:39<00:00, 19.77s/it]\n"
     ]
    }
   ],
   "source": [
    "target_tokenizer = AutoTokenizer.from_pretrained(target_cpt)\n",
    "assistant_tokenizer = AutoTokenizer.from_pretrained(assistant_cpt)\n",
    "\n",
    "target_model = AutoModelForCausalLM.from_pretrained(target_cpt)\n",
    "assistant_model = AutoModelForCausalLM.from_pretrained(assistant_cpt)"
   ]
  },
  {
   "cell_type": "code",
   "execution_count": 4,
   "metadata": {},
   "outputs": [],
   "source": [
    "def compare(prompt_list):\n",
    "    \n",
    "    assisted_times = []\n",
    "    regular_times = []\n",
    "    \n",
    "    for prompt in prompt_list:\n",
    "        inputs = target_tokenizer(prompt, return_tensors='pt')\n",
    "    \n",
    "        s = time.time()\n",
    "        \n",
    "        outputs = target_model.generate(**inputs, assistant_model=assistant_model, tokenizer=target_tokenizer, assistant_tokenizer=assistant_tokenizer)\n",
    "        target_tokenizer.batch_decode(outputs, skip_special_tokens=True)\n",
    "        \n",
    "        assisted_times.append(time.time()-s)\n",
    "        s = time.time()\n",
    "        \n",
    "        outputs = target_model.generate(**inputs, tokenizer=target_tokenizer)\n",
    "        target_tokenizer.batch_decode(outputs, skip_special_tokens=True)\n",
    "        \n",
    "        regular_times.append(time.time()-s)\n",
    "        \n",
    "    return sum(assisted_times)/sum(regular_times)"
   ]
  },
  {
   "cell_type": "code",
   "execution_count": 5,
   "metadata": {},
   "outputs": [],
   "source": [
    "prompt_list = [\n",
    "    'What is the capital of France?',\n",
    "    'Who wrote \\'1984\\'?',\n",
    "    'The quick brown fox jumps over the lazy...',\n",
    "    'Write a Python function to compute the Fibonacci sequence.',\n",
    "    'Define Newton\\'s second law of motion.',\n",
    "    'List three primary colors.',\n",
    "    'Convert 100°F to Celsius.',\n",
    "    'What are the three branches of the U.S. government?',\n",
    "    'How do you define a class in Python?',\n",
    "    'What\\'s 8 times 7?'\n",
    "]"
   ]
  },
  {
   "cell_type": "code",
   "execution_count": 6,
   "metadata": {},
   "outputs": [
    {
     "data": {
      "text/plain": [
       "1.35325377496163"
      ]
     },
     "execution_count": 6,
     "metadata": {},
     "output_type": "execute_result"
    }
   ],
   "source": [
    "compare(prompt_list)"
   ]
  }
 ],
 "metadata": {
  "kernelspec": {
   "display_name": "spec",
   "language": "python",
   "name": "python3"
  },
  "language_info": {
   "codemirror_mode": {
    "name": "ipython",
    "version": 3
   },
   "file_extension": ".py",
   "mimetype": "text/x-python",
   "name": "python",
   "nbconvert_exporter": "python",
   "pygments_lexer": "ipython3",
   "version": "3.10.16"
  }
 },
 "nbformat": 4,
 "nbformat_minor": 2
}
